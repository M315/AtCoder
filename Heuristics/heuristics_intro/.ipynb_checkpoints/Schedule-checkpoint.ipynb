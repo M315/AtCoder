{
 "cells": [
  {
   "cell_type": "code",
   "execution_count": 7,
   "id": "6fde3d87",
   "metadata": {
    "ExecuteTime": {
     "end_time": "2021-10-21T19:15:23.727000+02:00",
     "start_time": "2021-10-21T17:15:23.720Z"
    }
   },
   "outputs": [
    {
     "data": {
      "text/plain": [
       "greedy (generic function with 1 method)"
      ]
     },
     "execution_count": 7,
     "metadata": {},
     "output_type": "execute_result"
    }
   ],
   "source": [
    "#Greedy\n",
    "#Try pick the best score for each day\n",
    "\n",
    "function find_max(i, c, s, days_no_contest)\n",
    "    best = 1\n",
    "    max = typemin(Int32)\n",
    "    \n",
    "    total_penalty = 0\n",
    "    for k in 1:26\n",
    "        total_penalty += (c[k] * days_no_contest[k])\n",
    "    end\n",
    "    \n",
    "    for k in 1:26\n",
    "        score = 10^6 + s[k] - total_penalty + (c[k] * days_no_contest[k])\n",
    "        if score > max\n",
    "            max = score\n",
    "            best = k\n",
    "        end\n",
    "    end\n",
    "    \n",
    "    return best\n",
    "end\n",
    "\n",
    "\n",
    "\n",
    "function greedy()\n",
    "    days_no_contest = fill(1, 26)\n",
    "    \n",
    "    sol = fill(1, D)\n",
    "    for i in 1:D\n",
    "        day = find_max(i, c, s[i], days_no_contest)\n",
    "        sol[i] = day\n",
    "        \n",
    "        for j in 1:26\n",
    "            days_no_contest[j] += 1\n",
    "        end\n",
    "        \n",
    "        days_no_contest[day] = 0\n",
    "    end\n",
    "    \n",
    "    return sol\n",
    "end"
   ]
  },
  {
   "cell_type": "code",
   "execution_count": 8,
   "id": "fe36e9e0",
   "metadata": {
    "ExecuteTime": {
     "end_time": "2021-10-21T19:15:26.367000+02:00",
     "start_time": "2021-10-21T17:15:26.351Z"
    }
   },
   "outputs": [
    {
     "data": {
      "text/plain": [
       "generation (generic function with 1 method)"
      ]
     },
     "execution_count": 8,
     "metadata": {},
     "output_type": "execute_result"
    }
   ],
   "source": [
    "#Tools for genetic algorithm\n",
    "\n",
    "#Creates a random chromosome\n",
    "function create_chromosome(size)\n",
    "    chromosome = rand(1:26, size)\n",
    "\n",
    "    return chromosome\n",
    "end\n",
    "\n",
    "#Returns the score of a crhomosome\n",
    "function get_score(chrom)\n",
    "    days_no_contest = fill(1, 26)\n",
    "    \n",
    "    score = 0\n",
    "    for i in 1:D\n",
    "        day_score = 10^6 + s[i][chrom[i]]\n",
    "        \n",
    "        for k in 1:26\n",
    "            day_score -= (c[k] * days_no_contest[k])\n",
    "        end\n",
    "        \n",
    "        if day_score > 0\n",
    "            score += day_score\n",
    "        end\n",
    "        \n",
    "        for j in 1:26\n",
    "            days_no_contest[j] += 1\n",
    "        end\n",
    "        \n",
    "        days_no_contest[chrom[i]] = 0\n",
    "    end\n",
    "    \n",
    "    return score\n",
    "end\n",
    "\n",
    "#Returns de Normalized score of a chromosome\n",
    "function score(chrom)\n",
    "    return convert(Float64, get_score(chrom))/372300000.0\n",
    "end\n",
    "\n",
    "#Function to get the parents for the next generation\n",
    "function selection(chromosomes_list)\n",
    "    GRADED_RETAIN_PERCENT = 0.3     # percentage of retained best fitting individuals\n",
    "\n",
    "    parents = []\n",
    "    n = length(chromosomes_list)\n",
    "\n",
    "    chromosomes_list = sort(chromosomes_list, by=score, rev=true)\n",
    "\n",
    "    for i in 1:trunc(Int32, n * GRADED_RETAIN_PERCENT)\n",
    "        push!(parents, chromosomes_list[1])\n",
    "        deleteat!(chromosomes_list, 1)\n",
    "    end\n",
    "\n",
    "    return parents\n",
    "end\n",
    "\n",
    "#Function to cross parents\n",
    "function crossover(parent1, parent2)\n",
    "\n",
    "    n = length(parent1)\n",
    "\n",
    "    child = fill(1, n)\n",
    "    pick = rand(1:2, length(parent1))\n",
    "    for i in 1:n\n",
    "        if pick[i] == 1\n",
    "            child[i] = parent1[i]\n",
    "        else\n",
    "            child[i] = parent2[i]\n",
    "        end\n",
    "    end\n",
    "    \n",
    "    return child\n",
    "end\n",
    "\n",
    "#Function that produces random mutations to a chromosome    \n",
    "function mutation(chrom)\n",
    "\n",
    "    k = rand(0:2)\n",
    "    for i in 1:k\n",
    "        chrom[rand(1:length(chrom))] = rand(1:26)\n",
    "    end\n",
    "    \n",
    "    return chrom\n",
    "end\n",
    "\n",
    "#Function that initializes the population\n",
    "function create_population(pop_size, chrom_size)\n",
    "    population = []\n",
    "    \n",
    "    for i in 1:pop_size\n",
    "        push!(population, create_chromosome(chrom_size))\n",
    "    end\n",
    "    \n",
    "    return population\n",
    "end\n",
    "\n",
    "#Function that creates a new generation\n",
    "function generation(population)\n",
    "    \n",
    "    select = selection(population)\n",
    "    #println(score(select[1]))\n",
    "    \n",
    "    # reproduction\n",
    "    # As long as we need individuals in the new population, fill it with children\n",
    "    children = []\n",
    "    while length(children) < length(population) - length(select)\n",
    "        ## crossover\n",
    "        p1, p2 = rand((1:length(select)), 2)\n",
    "        child = crossover(select[p1], select[p2])\n",
    "        \n",
    "        ## mutation\n",
    "        child = mutation(child)\n",
    "        push!(children, child)\n",
    "    end\n",
    "    \n",
    "    # return the new generation\n",
    "    return append!(select, children)\n",
    "end"
   ]
  },
  {
   "cell_type": "code",
   "execution_count": 11,
   "id": "2e74b554",
   "metadata": {
    "ExecuteTime": {
     "end_time": "2021-10-21T19:16:39.618000+02:00",
     "start_time": "2021-10-21T17:16:39.525Z"
    }
   },
   "outputs": [
    {
     "data": {
      "text/plain": [
       "schedule_atcoder (generic function with 1 method)"
      ]
     },
     "execution_count": 11,
     "metadata": {},
     "output_type": "execute_result"
    }
   ],
   "source": [
    "#Genetic Algorithm\n",
    "function schedule_atcoder(stream::IO)\n",
    "    chrom_size = D\n",
    "    population_size = 12\n",
    "    max_generation = 40\n",
    "    \n",
    "    # create the base population\n",
    "    population = create_population(population_size - 1, chrom_size)\n",
    "    # use the greedy solution to get a better solution to start\n",
    "    push!(population, greedy())\n",
    "    \n",
    "    for i in 1:max_generation\n",
    "        population = generation(population)\n",
    "    end\n",
    "    \n",
    "    #print best result\n",
    "    best = sort(population, by=score, rev=true)[1]\n",
    "    for i in 1:D\n",
    "        println(stream, best[i])\n",
    "    end\n",
    "end"
   ]
  },
  {
   "cell_type": "code",
   "execution_count": 12,
   "id": "a55d90f3",
   "metadata": {
    "ExecuteTime": {
     "end_time": "2021-10-21T19:16:51.958000+02:00",
     "start_time": "2021-10-21T17:16:49.543Z"
    }
   },
   "outputs": [
    {
     "name": "stdout",
     "output_type": "stream",
     "text": [
      "  2.050844 seconds (40.13 M allocations: 643.737 MiB, 2.16% gc time, 6.55% compilation time)\n"
     ]
    }
   ],
   "source": [
    "function A()\n",
    "    pf = open(\"tester/input.txt\", \"r\")\n",
    "    \n",
    "    global D = parse(Int, readline(pf))\n",
    "    global c = parse.(Int, split(readline(pf)))\n",
    "    global s = fill(zeros(Int32, 0), D)\n",
    "    \n",
    "    for i in 1:D\n",
    "        s[i] = parse.(Int32, split(readline(pf)))\n",
    "    end\n",
    "    \n",
    "    close(pf)\n",
    "    \n",
    "    qf = open(\"tester/output.txt\", \"w\")\n",
    "    \n",
    "    schedule_atcoder(qf)\n",
    "    \n",
    "    close(qf)\n",
    "    \n",
    "end\n",
    "\n",
    "@time A()"
   ]
  },
  {
   "cell_type": "code",
   "execution_count": 2,
   "id": "0dd647a4",
   "metadata": {
    "ExecuteTime": {
     "end_time": "2021-10-14T20:52:27.682000+02:00",
     "start_time": "2021-10-14T18:52:21.254Z"
    }
   },
   "outputs": [
    {
     "name": "stdout",
     "output_type": "stream",
     "text": [
      "stdin> 5\n",
      "stdin> 19771 12979 18912 10432 10544 12928 13403 3047 10527 9740 8100 92 2856 14730 1396 15905 6534 4650 11469 3628 8433 2994 10899 16396 18355 11424\n",
      "stdin> 19771 12979 18912 10432 10544 12928 13403 3047 10527 9740 8100 92 2856 14730 1396 15905 6534 4650 11469 3628 8433 2994 10899 16396 18355 11424\n",
      "stdin> 19771 12979 18912 10432 10544 12928 13403 3047 10527 9740 8100 92 2856 14730 1396 15905 6534 4650 11469 3628 8433 2994 10899 16396 18355 11424\n",
      "stdin> 19771 12979 18912 10432 10544 12928 13403 3047 10527 9740 8100 92 2856 14730 1396 15905 6534 4650 11469 3628 8433 2994 10899 16396 18355 11424\n",
      "stdin> 19771 12979 18912 10432 10544 12928 13403 3047 10527 9740 8100 92 2856 14730 1396 15905 6534 4650 11469 3628 8433 2994 10899 16396 18355 11424\n",
      "stdin> 19771 12979 18912 10432 10544 12928 13403 3047 10527 9740 8100 92 2856 14730 1396 15905 6534 4650 11469 3628 8433 2994 10899 16396 18355 11424\n",
      "1\n",
      "1\n",
      "1\n",
      "1\n",
      "1\n"
     ]
    }
   ],
   "source": [
    "function main()\n",
    "    global D = parse(Int32, readline(stdin))\n",
    "    global c = parse.(Int32, split(readline(stdin)))\n",
    "    global s = fill(zeros(Int32, 0), D)\n",
    "    \n",
    "    for i in 1:D\n",
    "        s[i] = parse.(Int32, split(readline(stdin)))\n",
    "    end\n",
    "    \n",
    "    schedule_atcoder(stdout)\n",
    "end\n",
    "\n",
    "main()"
   ]
  }
 ],
 "metadata": {
  "kernelspec": {
   "display_name": "Julia 1.6.0-DEV",
   "language": "julia",
   "name": "julia-1.6"
  },
  "language_info": {
   "file_extension": ".jl",
   "mimetype": "application/julia",
   "name": "julia",
   "version": "1.6.0"
  }
 },
 "nbformat": 4,
 "nbformat_minor": 5
}
