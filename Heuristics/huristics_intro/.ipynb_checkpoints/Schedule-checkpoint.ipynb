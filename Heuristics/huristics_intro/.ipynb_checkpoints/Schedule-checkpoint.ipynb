{
 "cells": [
  {
   "cell_type": "code",
   "execution_count": 1,
   "id": "ef5410e2",
   "metadata": {
    "ExecuteTime": {
     "end_time": "2021-10-14T20:59:32.319000+02:00",
     "start_time": "2021-10-14T18:59:27.713Z"
    }
   },
   "outputs": [
    {
     "data": {
      "text/plain": [
       "schedule (generic function with 1 method)"
      ]
     },
     "execution_count": 1,
     "metadata": {},
     "output_type": "execute_result"
    }
   ],
   "source": [
    "function schedule(D, c, s, stream::IO)\n",
    "    \n",
    "    for i in 1:D\n",
    "        println(stream, 1)\n",
    "    end\n",
    "    \n",
    "end"
   ]
  },
  {
   "cell_type": "code",
   "execution_count": 2,
   "id": "0b373922",
   "metadata": {
    "ExecuteTime": {
     "end_time": "2021-10-14T20:59:33.870000+02:00",
     "start_time": "2021-10-14T18:59:33.613Z"
    }
   },
   "outputs": [],
   "source": [
    "function A()\n",
    "    pf = open(\"input.txt\", \"r\")\n",
    "    \n",
    "    D = parse(Int, readline(pf))\n",
    "    c = parse.(Int, split(readline(pf)))\n",
    "    s = fill(zeros(Int32, 0), D)\n",
    "    \n",
    "    for i in 1:D\n",
    "        s[i] = parse.(Int32, split(readline(pf)))\n",
    "    end\n",
    "    \n",
    "    close(pf)\n",
    "    \n",
    "    qf = open(\"output.txt\", \"w\")\n",
    "    \n",
    "    schedule(D, c, s, qf)\n",
    "    \n",
    "    close(qf)\n",
    "    \n",
    "end\n",
    "\n",
    "A()"
   ]
  },
  {
   "cell_type": "code",
   "execution_count": 2,
   "id": "aa26da9c",
   "metadata": {
    "ExecuteTime": {
     "end_time": "2021-10-14T20:52:27.682000+02:00",
     "start_time": "2021-10-14T18:52:21.254Z"
    }
   },
   "outputs": [
    {
     "name": "stdout",
     "output_type": "stream",
     "text": [
      "stdin> 5\n",
      "stdin> 19771 12979 18912 10432 10544 12928 13403 3047 10527 9740 8100 92 2856 14730 1396 15905 6534 4650 11469 3628 8433 2994 10899 16396 18355 11424\n",
      "stdin> 19771 12979 18912 10432 10544 12928 13403 3047 10527 9740 8100 92 2856 14730 1396 15905 6534 4650 11469 3628 8433 2994 10899 16396 18355 11424\n",
      "stdin> 19771 12979 18912 10432 10544 12928 13403 3047 10527 9740 8100 92 2856 14730 1396 15905 6534 4650 11469 3628 8433 2994 10899 16396 18355 11424\n",
      "stdin> 19771 12979 18912 10432 10544 12928 13403 3047 10527 9740 8100 92 2856 14730 1396 15905 6534 4650 11469 3628 8433 2994 10899 16396 18355 11424\n",
      "stdin> 19771 12979 18912 10432 10544 12928 13403 3047 10527 9740 8100 92 2856 14730 1396 15905 6534 4650 11469 3628 8433 2994 10899 16396 18355 11424\n",
      "stdin> 19771 12979 18912 10432 10544 12928 13403 3047 10527 9740 8100 92 2856 14730 1396 15905 6534 4650 11469 3628 8433 2994 10899 16396 18355 11424\n",
      "1\n",
      "1\n",
      "1\n",
      "1\n",
      "1\n"
     ]
    }
   ],
   "source": [
    "function main()\n",
    "    D = parse(Int32, readline(stdin))\n",
    "    c = parse.(Int32, split(readline(stdin)))\n",
    "    s = fill(zeros(Int32, 0), D)\n",
    "    \n",
    "    for i in 1:D\n",
    "        s[i] = parse.(Int32, split(readline(stdin)))\n",
    "    end\n",
    "    \n",
    "    schedule(D, c, s, stdout)\n",
    "end\n",
    "\n",
    "main()"
   ]
  }
 ],
 "metadata": {
  "kernelspec": {
   "display_name": "Julia 1.6.0-DEV",
   "language": "julia",
   "name": "julia-1.6"
  },
  "language_info": {
   "file_extension": ".jl",
   "mimetype": "application/julia",
   "name": "julia",
   "version": "1.6.0"
  }
 },
 "nbformat": 4,
 "nbformat_minor": 5
}
